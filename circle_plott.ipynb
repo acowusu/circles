{
  "nbformat": 4,
  "nbformat_minor": 0,
  "metadata": {
    "colab": {
      "name": "circle plott.ipynb",
      "provenance": [],
      "include_colab_link": true
    },
    "kernelspec": {
      "name": "python3",
      "display_name": "Python 3"
    }
  },
  "cells": [
    {
      "cell_type": "markdown",
      "metadata": {
        "id": "view-in-github",
        "colab_type": "text"
      },
      "source": [
        "<a href=\"https://colab.research.google.com/github/penguinprogramer/circles/blob/master/circle_plott.ipynb\" target=\"_parent\"><img src=\"https://colab.research.google.com/assets/colab-badge.svg\" alt=\"Open In Colab\"/></a>"
      ]
    },
    {
      "cell_type": "markdown",
      "metadata": {
        "id": "ba6FRE31KmlA",
        "colab_type": "text"
      },
      "source": [
        "# Step one: import required Librarys"
      ]
    },
    {
      "cell_type": "code",
      "metadata": {
        "id": "UANdUl3AJ5WE",
        "colab_type": "code",
        "colab": {}
      },
      "source": [
        "import matplotlib.pyplot as plt # to show the circles on  a graph\n",
        "import math  # to calculate the euclidean distance of the circles\n"
      ],
      "execution_count": 0,
      "outputs": []
    },
    {
      "cell_type": "markdown",
      "metadata": {
        "id": "gpsT2YTwKuZB",
        "colab_type": "text"
      },
      "source": [
        "# step two define some helper functions to calculate the intersections and concentricity"
      ]
    },
    {
      "cell_type": "code",
      "metadata": {
        "id": "Qo5JxpSoEc0l",
        "colab_type": "code",
        "colab": {}
      },
      "source": [
        "def isconcentric(x1,y1,x2,y2):\n",
        "  return x1==x2 and y1==y2 # concentric circles have the same x and y coordinates for their centers"
      ],
      "execution_count": 0,
      "outputs": []
    },
    {
      "cell_type": "code",
      "metadata": {
        "id": "65Pep932EsLk",
        "colab_type": "code",
        "colab": {}
      },
      "source": [
        "def intersections(x1,y1, r1,x2,y2,r2):\n",
        "  distance = math.sqrt( (x1-x2)**2 + (y1-y2)**2)  # calculate the eucledean distance from their centers using pythagoras's theorem\n",
        "  \n",
        "  if (max(r1,r2) >(min(r1,r2)+ distance)):  \n",
        "    return 0\n",
        "  if(distance<r1+r2): # if the distance wbetween the circles centers is less than the sum of their radai then they must overlap\n",
        "    return 2\n",
        "  elif(distance >r1+r2):\n",
        "    return 0\n",
        "  else:\n",
        "    return 1\n"
      ],
      "execution_count": 0,
      "outputs": []
    },
    {
      "cell_type": "markdown",
      "metadata": {
        "id": "_Fhcq3pGK64X",
        "colab_type": "text"
      },
      "source": [
        "# Step three define the circles"
      ]
    },
    {
      "cell_type": "code",
      "metadata": {
        "id": "5629udINB3BQ",
        "colab_type": "code",
        "colab": {}
      },
      "source": [
        "\n",
        "\n",
        "CircleXCoordinate1 = 0  #@param {type: \"slider\", min: -10, max: 10}\n",
        "CircleXCoordinate2 = 0  #@param {type: \"slider\", min: -10, max: 10}\n",
        "\n",
        "CircleYCoordinate1 = -6  #@param {type: \"slider\",  min: -10, max: 10}\n",
        "CircleYCoordinate2 = -6  #@param {type: \"slider\", min: -10, max: 10}\n",
        "\n",
        "CircleRadius1 = 1  #@param {type: \"slider\", min: 0, max: 5}\n",
        "CircleRadius2 = 4 #@param {type:\"slider\", min:0, max:5, step:1}\n",
        "\n",
        "\n"
      ],
      "execution_count": 0,
      "outputs": []
    },
    {
      "cell_type": "code",
      "metadata": {
        "id": "FhS5muYJLHIu",
        "colab_type": "code",
        "colab": {}
      },
      "source": [
        ""
      ],
      "execution_count": 0,
      "outputs": []
    },
    {
      "cell_type": "markdown",
      "metadata": {
        "id": "ZXsCT7_SLJrl",
        "colab_type": "text"
      },
      "source": [
        "# Step four show the Diagram and output values for the interections and whether it is concentric"
      ]
    },
    {
      "cell_type": "code",
      "metadata": {
        "id": "Ohhmos7ILDso",
        "colab_type": "code",
        "outputId": "92c8277e-5386-4e19-f40f-7b5654bea967",
        "colab": {
          "base_uri": "https://localhost:8080/",
          "height": 288
        }
      },
      "source": [
        "# i am using the alpha chanel to make the circles semitransparent which makes overlaps moore obvious\n",
        "circle1 = plt.Circle((CircleXCoordinate1, CircleYCoordinate1), CircleRadius1, color='r', alpha=0.5 ) \n",
        "circle2 = plt.Circle((CircleXCoordinate2,CircleYCoordinate2), CircleRadius2, color='blue' ,alpha=0.5 )\n",
        "\n",
        "fig, ax = plt.subplots() \n",
        "# here we are defining the dimensions of the plot\n",
        "low  = -10\n",
        "left = -10\n",
        "right = 10\n",
        "high = 10\n",
        "\n",
        "plt.xlim((left, right))   \n",
        "plt.ylim(low, high) \n",
        "ax.add_artist(circle1)\n",
        "ax.add_artist(circle2)\n",
        "\n",
        "\n",
        "\n",
        "# concentric holds the value \"n't \" if the circles are not concentric so that when it is added to the string it makes sense as a sentence\n",
        "concentric = \"n't\" if not isconcentric(CircleXCoordinate1, CircleYCoordinate1, CircleXCoordinate2,CircleYCoordinate2) else ''\n",
        "\n",
        "numintersections = intersections(CircleXCoordinate1, CircleYCoordinate1,CircleRadius1, CircleXCoordinate2,CircleYCoordinate2,CircleRadius2) # returns integer\n",
        "txt  = f'the two circles are{concentric} concentric and they have {numintersections} intersection(s)'\n",
        "# show caption\n",
        "plt.figtext(0.5, 0.01, txt, wrap=True, horizontalalignment='center', fontsize=12) \n",
        "\n",
        "# optionally save picture of result\n",
        "fig.savefig('plotcircles.png')"
      ],
      "execution_count": 58,
      "outputs": [
        {
          "output_type": "display_data",
          "data": {
            "image/png": "[encoded data removed]",
            "text/plain": [
              "<Figure size 432x288 with 1 Axes>"
            ]
          },
          "metadata": {
            "tags": []
          }
        }
      ]
    },
    {
      "cell_type": "code",
      "metadata": {
        "id": "4GCkpGYkhem7",
        "colab_type": "code",
        "colab": {}
      },
      "source": [
        ""
      ],
      "execution_count": 0,
      "outputs": []
    },
    {
      "cell_type": "code",
      "metadata": {
        "id": "nPsqyq9vhefE",
        "colab_type": "code",
        "outputId": "3b64810b-505e-4442-fc26-470df6914d78",
        "colab": {
          "base_uri": "https://localhost:8080/",
          "height": 34
        }
      },
      "source": [
        "isconcentric(CircleXCoordinate1, CircleYCoordinate1, CircleXCoordinate2,CircleYCoordinate2)"
      ],
      "execution_count": 59,
      "outputs": [
        {
          "output_type": "execute_result",
          "data": {
            "text/plain": [
              "True"
            ]
          },
          "metadata": {
            "tags": []
          },
          "execution_count": 59
        }
      ]
    },
    {
      "cell_type": "code",
      "metadata": {
        "id": "aiivpOh9i1nk",
        "colab_type": "code",
        "outputId": "7bd41d97-8004-43df-9e96-618543676119",
        "colab": {
          "base_uri": "https://localhost:8080/",
          "height": 34
        }
      },
      "source": [
        "CircleYCoordinate1 ==CircleYCoordinate2 and CircleXCoordinate1 ==CircleXCoordinate2"
      ],
      "execution_count": 60,
      "outputs": [
        {
          "output_type": "execute_result",
          "data": {
            "text/plain": [
              "True"
            ]
          },
          "metadata": {
            "tags": []
          },
          "execution_count": 60
        }
      ]
    },
    {
      "cell_type": "code",
      "metadata": {
        "id": "btRjmI7Hl668",
        "colab_type": "code",
        "colab": {}
      },
      "source": [
        "#tests\n",
        "import random as r\n",
        "for i in range(1000):\n",
        "  x = r.randint(-10, 10)\n",
        "  y = r.randint(-10, 10)\n",
        "  r1 = r.randint(0, 10)\n",
        "  r2 = r.randint(0, 10)\n",
        "  if not isconcentric(x,y,x,y):\n",
        "    print(f\"test failed {x}, {y}\" )"
      ],
      "execution_count": 0,
      "outputs": []
    }
  ]
}